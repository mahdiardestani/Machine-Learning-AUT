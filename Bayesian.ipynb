{
  "nbformat": 4,
  "nbformat_minor": 0,
  "metadata": {
    "colab": {
      "name": "Bayesian.ipynb",
      "provenance": [],
      "collapsed_sections": []
    },
    "kernelspec": {
      "name": "python3",
      "display_name": "Python 3"
    },
    "language_info": {
      "name": "python"
    }
  },
  "cells": [
    {
      "cell_type": "markdown",
      "source": [
        ""
      ],
      "metadata": {
        "id": "HhRiuLrtJ7iP"
      }
    },
    {
      "cell_type": "markdown",
      "source": [
        "###Import Module"
      ],
      "metadata": {
        "id": "9BRvEGjDGB-7"
      }
    },
    {
      "cell_type": "code",
      "execution_count": null,
      "metadata": {
        "id": "0YSqTU15JPYX"
      },
      "outputs": [],
      "source": [
        "import numpy as np\n",
        "import pandas as pd\n",
        "from tqdm import tqdm\n",
        "from scipy.stats import multivariate_normal\n",
        "from sklearn.model_selection import train_test_split\n",
        "from sklearn.metrics import confusion_matrix\n",
        "from sklearn.preprocessing import LabelEncoder"
      ]
    },
    {
      "cell_type": "markdown",
      "source": [
        "\n",
        "###Load Data"
      ],
      "metadata": {
        "id": "OKEC-tJhGwGE"
      }
    },
    {
      "cell_type": "code",
      "source": [
        "data = pd.read_csv('Frogs_MFCCs.csv')\n",
        "data.head()\n",
        "df = data.drop(columns=['Genus', 'Species', 'RecordID'])\n",
        "#print(df['Family'].unique())\n",
        "X = df.iloc[:,:-1]\n",
        "#X.head()\n",
        "y = df.iloc[:,-1]\n",
        "classes = list(df['Family'].unique())\n",
        "print(classes)\n",
        "#print(classes)    # finding unique names in family class\n",
        "y.head()\n",
        "\n",
        "#Label encoding for y in dataset and find confusion matrix\n",
        "class_no = list(range(len(classes)))\n",
        "class_dict = {cls:index for cls, index in zip(classes, class_no)}\n",
        "print(class_dict)\n",
        "y = y.map(lambda x: class_dict[x])\n",
        "print(y)"
      ],
      "metadata": {
        "colab": {
          "base_uri": "https://localhost:8080/"
        },
        "id": "vc6HtpxBMr6i",
        "outputId": "7d3b7bfa-4e22-4fed-c6e1-37c1c253b986"
      },
      "execution_count": null,
      "outputs": [
        {
          "output_type": "stream",
          "name": "stdout",
          "text": [
            "['Leptodactylidae', 'Dendrobatidae', 'Hylidae', 'Bufonidae']\n",
            "{'Leptodactylidae': 0, 'Dendrobatidae': 1, 'Hylidae': 2, 'Bufonidae': 3}\n",
            "0       0\n",
            "1       0\n",
            "2       0\n",
            "3       0\n",
            "4       0\n",
            "       ..\n",
            "7190    2\n",
            "7191    2\n",
            "7192    2\n",
            "7193    2\n",
            "7194    2\n",
            "Name: Family, Length: 7195, dtype: int64\n"
          ]
        }
      ]
    },
    {
      "cell_type": "markdown",
      "source": [
        "###Select Family in dataset and split to data and label"
      ],
      "metadata": {
        "id": "-kj16wV5G3E7"
      }
    },
    {
      "cell_type": "code",
      "source": [
        "ps = []\n",
        "dfs = [df[df['Family'] == cls] for cls in classes]\n",
        "Xcs = [df.iloc[:, :-1] for df in dfs]     #choose values for 4 class in family\n",
        "ycs = [df.iloc[:, -1] for df in dfs]      #choose labels for 4 class in family\n",
        "# print(len(Xcs[1]))\n",
        "# print(Xcs[1].shape)   #(4420,22)\n",
        "# print(len(ycs[1]))\n",
        "# print(ycs[1].shape)   #(542)\n",
        "\n",
        "#split dataset to train and test \n",
        "#use zip in for loop: create an iterator that produces tuples of the form (x, y)\n",
        "tts = [train_test_split(X, y, test_size = 0.3, random_state = 42) for X, y in zip(Xcs, ycs)]\n",
        "#tts = [Xtrain, Xtest, ytrain , ytest]\n",
        "# print(len(tts[0][0]))  #3094  Xtrain for subclass1  \n",
        "# print(len(tts[0][1]))  #1326  Xtest for subclass1\n",
        "# print(len(tts[0][2]))  #3094  ytrain for subclass1\n",
        "# print(len(tts[0][3]))  #1326  ytest for subclass1\n",
        "\n",
        "means = [np.mean(t[0], axis=0) for t in tts]  #find mean along coloumn\n",
        "#print(len(means)) # we have 4 mean for each of our class\n",
        "covs = [np.cov(t[0], rowvar=False) for t in tts]    # rowvar=false:each column represents a variable, while the rows contain observations.\n",
        "#print(len(covs)) # we have 4 cov for each of our class\n",
        "\n",
        "#Initalize value \n",
        "corrects_train = [0 for i in range(len(classes))]\n",
        "wrongs_train = [0 for i in range(len(classes))]\n",
        "accs_train = [0 for i in range(len(classes))]\n",
        "corrects_test = [0 for i in range(len(classes))]\n",
        "wrongs_test = [0 for i in range(len(classes))]\n",
        "accs_test = [0 for i in range(len(classes))]\n",
        "\n",
        "for i, cls in enumerate(classes): \n",
        "  print(f'Calculating class {cls} performance...')\n",
        "  Xtrain, Xtest, ytrain, ytest = list(map(np.array, tts[i]))\n",
        "  ps = [[multivariate_normal.pdf(Xtrain[j], mean = means[k], cov = covs[k], allow_singular = True) for k in range(len(classes))] for j in tqdm(range(len(Xtrain)))]\n",
        "  ps = np.argmax(ps, axis=-1)\n",
        "  corrects_train[i] = len(ps[ps == i])\n",
        "  wrongs_train[i] = len(ps[ps != i])\n",
        "  accs_train[i] = corrects_train[i] / len(Xtrain)\n",
        "\n",
        "  ps = [[multivariate_normal.pdf(Xtest[j], mean = means[k], cov = covs[k], allow_singular = True) for k in range(len(classes))] for j in tqdm(range(len(Xtest)))]\n",
        "  ps = np.argmax(ps, axis=-1)\n",
        "  corrects_test[i] = len(ps[ps == i])\n",
        "  wrongs_test[i] = len(ps[ps != i])\n",
        "  accs_test[i] = corrects_test[i] / len(Xtest)\n",
        "\n",
        "print(\"\\n\")\n",
        "print(corrects_train, wrongs_train, accs_train)\n",
        "print(corrects_test, wrongs_test, accs_test)\n"
      ],
      "metadata": {
        "colab": {
          "base_uri": "https://localhost:8080/"
        },
        "id": "J9wGWvGmNsle",
        "outputId": "289b6490-415f-4763-f0e9-9cb5fa5c02dd"
      },
      "execution_count": null,
      "outputs": [
        {
          "output_type": "stream",
          "name": "stdout",
          "text": [
            "Calculating class Leptodactylidae performance...\n"
          ]
        },
        {
          "output_type": "stream",
          "name": "stderr",
          "text": [
            "100%|██████████| 3094/3094 [00:06<00:00, 494.79it/s]\n",
            "100%|██████████| 1326/1326 [00:02<00:00, 466.66it/s]\n"
          ]
        },
        {
          "output_type": "stream",
          "name": "stdout",
          "text": [
            "Calculating class Dendrobatidae performance...\n"
          ]
        },
        {
          "output_type": "stream",
          "name": "stderr",
          "text": [
            "100%|██████████| 379/379 [00:00<00:00, 438.36it/s]\n",
            "100%|██████████| 163/163 [00:00<00:00, 421.56it/s]\n"
          ]
        },
        {
          "output_type": "stream",
          "name": "stdout",
          "text": [
            "Calculating class Hylidae performance...\n"
          ]
        },
        {
          "output_type": "stream",
          "name": "stderr",
          "text": [
            "100%|██████████| 1515/1515 [00:03<00:00, 471.72it/s]\n",
            "100%|██████████| 650/650 [00:01<00:00, 464.79it/s]\n"
          ]
        },
        {
          "output_type": "stream",
          "name": "stdout",
          "text": [
            "Calculating class Bufonidae performance...\n"
          ]
        },
        {
          "output_type": "stream",
          "name": "stderr",
          "text": [
            "100%|██████████| 47/47 [00:00<00:00, 418.25it/s]\n",
            "100%|██████████| 21/21 [00:00<00:00, 425.34it/s]"
          ]
        },
        {
          "output_type": "stream",
          "name": "stdout",
          "text": [
            "\n",
            "\n",
            "[3017, 372, 1444, 47] [77, 7, 71, 0] [0.9751131221719457, 0.9815303430079155, 0.9531353135313532, 1.0]\n",
            "[1271, 158, 619, 16] [55, 5, 31, 5] [0.9585218702865762, 0.9693251533742331, 0.9523076923076923, 0.7619047619047619]\n"
          ]
        },
        {
          "output_type": "stream",
          "name": "stderr",
          "text": [
            "\n"
          ]
        }
      ]
    },
    {
      "cell_type": "markdown",
      "source": [
        "### Confusion Matrix"
      ],
      "metadata": {
        "id": "6MtNKBTrJwug"
      }
    },
    {
      "cell_type": "code",
      "source": [
        "Xarr = np.array(X)\n",
        "ps = [[multivariate_normal.pdf(Xarr[j], mean = means[k], cov = covs[k], allow_singular = True) for k in range(len(classes))] for j in tqdm(range(len(X)))]\n",
        "ps = np.argmax(ps, axis=-1)"
      ],
      "metadata": {
        "id": "-Va4g3JzIP6n",
        "colab": {
          "base_uri": "https://localhost:8080/"
        },
        "outputId": "6e58b085-5104-44ce-c17d-e5ced3c9a6bf"
      },
      "execution_count": null,
      "outputs": [
        {
          "output_type": "stream",
          "name": "stderr",
          "text": [
            "100%|██████████| 7195/7195 [00:14<00:00, 480.83it/s]\n"
          ]
        }
      ]
    },
    {
      "cell_type": "code",
      "source": [
        "import matplotlib.pyplot as plt\n",
        "import seaborn as sn\n",
        "\n",
        "conf = confusion_matrix(y, ps) \n",
        "plt.figure(figsize = (10,7))\n",
        "sn.heatmap(conf, annot=True, fmt = \"d\", linewidths = 0.5)\n",
        "plt.show()"
      ],
      "metadata": {
        "colab": {
          "base_uri": "https://localhost:8080/",
          "height": 428
        },
        "id": "1_ow-e6MxnwZ",
        "outputId": "a61fab26-6c85-4357-d33d-25c02791c35c"
      },
      "execution_count": null,
      "outputs": [
        {
          "output_type": "display_data",
          "data": {
            "text/plain": [
              "<Figure size 720x504 with 2 Axes>"
            ],
            "image/png": "[encoded data removed]"
          },
          "metadata": {
            "needs_background": "light"
          }
        }
      ]
    },
    {
      "cell_type": "markdown",
      "source": [
        "###Part 2(prior knowledge)"
      ],
      "metadata": {
        "id": "I_7f-qduv5CZ"
      }
    },
    {
      "cell_type": "code",
      "source": [
        "priors = [no / len(df) for no in [df['Family'].value_counts()[cls] for cls in classes]]\n",
        "print(priors)"
      ],
      "metadata": {
        "colab": {
          "base_uri": "https://localhost:8080/"
        },
        "id": "T1l5f90C1UPd",
        "outputId": "54c72275-93bc-4541-c704-901a3359e381"
      },
      "execution_count": null,
      "outputs": [
        {
          "output_type": "stream",
          "name": "stdout",
          "text": [
            "[0.6143154968728284, 0.07533009034051424, 0.30090340514246006, 0.00945100764419736]\n"
          ]
        }
      ]
    },
    {
      "cell_type": "code",
      "source": [
        "ps_prior = []\n",
        "#split dataset to train and test \n",
        "#use zip in for loop: create an iterator that produces tuples of the form (x, y)\n",
        "tts = [train_test_split(X, y, test_size = 0.3, random_state = 42) for X, y in zip(Xcs, ycs)]\n",
        "\n",
        "means = [np.mean(t[0], axis=0) for t in tts]  #find mean along coloumn\n",
        "#print(len(means)) # we have 4 mean for each of our class\n",
        "covs = [np.cov(t[0], rowvar=False) for t in tts]    # rowvar=false:each column represents a variable, while the rows contain observations.\n",
        "#print(len(covs)) # we have 4 cov for each of our class\n",
        "\n",
        "#Initalize value \n",
        "corrects_train_prior = [0 for i in range(len(classes))]\n",
        "wrongs_train_prior = [0 for i in range(len(classes))]\n",
        "accs_train_prior = [0 for i in range(len(classes))]\n",
        "corrects_test_prior = [0 for i in range(len(classes))]\n",
        "wrongs_test_prior = [0 for i in range(len(classes))]\n",
        "accs_test_prior = [0 for i in range(len(classes))]\n",
        "\n",
        "for i, cls in enumerate(classes): \n",
        "  print(f'Calculating class {cls} performance...')\n",
        "  Xtrain, Xtest, ytrain, ytest = list(map(np.array, tts[i]))\n",
        "  ps_prior = [[priors[k] * multivariate_normal.pdf(Xtrain[j], mean = means[k], cov = covs[k], allow_singular = True) for k in range(len(classes))] for j in tqdm(range(len(Xtrain)))]\n",
        "  ps_prior = np.argmax(ps_prior, axis=-1)\n",
        "  corrects_train_prior[i] = len(ps_prior[ps_prior == i])\n",
        "  wrongs_train_prior[i] = len(ps_prior[ps_prior != i])\n",
        "  accs_train_prior[i] = corrects_train_prior[i] / len(Xtrain)\n",
        "\n",
        "  ps_prior = [[multivariate_normal.pdf(Xtest[j], mean = means[k], cov = covs[k], allow_singular = True) for k in range(len(classes))] for j in tqdm(range(len(Xtest)))]\n",
        "  ps_prior = np.argmax(ps_prior, axis=-1)\n",
        "  corrects_test_prior[i] = len(ps_prior[ps_prior == i])\n",
        "  wrongs_test_prior[i] = len(ps_prior[ps_prior != i])\n",
        "  accs_test_prior[i] = corrects_test_prior[i] / len(Xtest)\n",
        "\n",
        "print(\"\\n\")\n",
        "print(corrects_train_prior, wrongs_train_prior, accs_train_prior)\n",
        "print(corrects_test_prior, wrongs_test_prior, accs_test_prior)"
      ],
      "metadata": {
        "colab": {
          "base_uri": "https://localhost:8080/"
        },
        "id": "K9uBdfvDwHaH",
        "outputId": "a5969342-574c-4fa6-d5c3-d1e23823c3db"
      },
      "execution_count": null,
      "outputs": [
        {
          "output_type": "stream",
          "name": "stdout",
          "text": [
            "Calculating class Leptodactylidae performance...\n"
          ]
        },
        {
          "output_type": "stream",
          "name": "stderr",
          "text": [
            "100%|██████████| 3094/3094 [00:09<00:00, 329.72it/s]\n",
            "100%|██████████| 1326/1326 [00:03<00:00, 431.23it/s]\n"
          ]
        },
        {
          "output_type": "stream",
          "name": "stdout",
          "text": [
            "Calculating class Dendrobatidae performance...\n"
          ]
        },
        {
          "output_type": "stream",
          "name": "stderr",
          "text": [
            "100%|██████████| 379/379 [00:00<00:00, 421.21it/s]\n",
            "100%|██████████| 163/163 [00:00<00:00, 443.87it/s]\n"
          ]
        },
        {
          "output_type": "stream",
          "name": "stdout",
          "text": [
            "Calculating class Hylidae performance...\n"
          ]
        },
        {
          "output_type": "stream",
          "name": "stderr",
          "text": [
            "100%|██████████| 1515/1515 [00:03<00:00, 492.37it/s]\n",
            "100%|██████████| 650/650 [00:01<00:00, 454.52it/s]\n"
          ]
        },
        {
          "output_type": "stream",
          "name": "stdout",
          "text": [
            "Calculating class Bufonidae performance...\n"
          ]
        },
        {
          "output_type": "stream",
          "name": "stderr",
          "text": [
            "100%|██████████| 47/47 [00:00<00:00, 497.41it/s]\n",
            "100%|██████████| 21/21 [00:00<00:00, 398.53it/s]"
          ]
        },
        {
          "output_type": "stream",
          "name": "stdout",
          "text": [
            "\n",
            "\n",
            "[3020, 370, 1433, 47] [74, 9, 82, 0] [0.9760827407886231, 0.9762532981530343, 0.9458745874587459, 1.0]\n",
            "[1271, 158, 619, 16] [55, 5, 31, 5] [0.9585218702865762, 0.9693251533742331, 0.9523076923076923, 0.7619047619047619]\n"
          ]
        },
        {
          "output_type": "stream",
          "name": "stderr",
          "text": [
            "\n"
          ]
        }
      ]
    },
    {
      "cell_type": "code",
      "source": [
        "Xarr = np.array(X)\n",
        "ps_prior = [[priors[k] * multivariate_normal.pdf(Xarr[j], mean = means[k], cov = covs[k], allow_singular = True) for k in range(len(classes))] for j in tqdm(range(len(X)))]\n",
        "ps_prior = np.argmax(ps_prior, axis=-1)"
      ],
      "metadata": {
        "colab": {
          "base_uri": "https://localhost:8080/"
        },
        "id": "vTePB2ZJ0ocm",
        "outputId": "68148eb7-53aa-4cc3-98e0-b1c2d91608ea"
      },
      "execution_count": null,
      "outputs": [
        {
          "output_type": "stream",
          "name": "stderr",
          "text": [
            "100%|██████████| 7195/7195 [00:17<00:00, 410.24it/s]\n"
          ]
        }
      ]
    },
    {
      "cell_type": "code",
      "source": [
        "conf = confusion_matrix(y, ps_prior) \n",
        "plt.figure(figsize = (10,7))\n",
        "sn.heatmap(conf, annot=True, fmt = \"d\", linewidths = 0.5)\n",
        "plt.show()"
      ],
      "metadata": {
        "colab": {
          "base_uri": "https://localhost:8080/",
          "height": 428
        },
        "id": "INkshnSv2mO-",
        "outputId": "de97dcda-286a-4ba1-ca4e-2c43bf584b4e"
      },
      "execution_count": null,
      "outputs": [
        {
          "output_type": "display_data",
          "data": {
            "text/plain": [
              "<Figure size 720x504 with 2 Axes>"
            ],
            "image/png": "[encoded data removed]"
          },
          "metadata": {
            "needs_background": "light"
          }
        }
      ]
    },
    {
      "cell_type": "markdown",
      "source": [
        "###Part 3"
      ],
      "metadata": {
        "id": "Vw1taqFJUZ5-"
      }
    },
    {
      "cell_type": "code",
      "source": [
        "covs_arr = []\n",
        "for item in range(4):\n",
        "  temp = (np.diag(np.diag(np.array(covs[item]))))\n",
        "  covs_arr.append(temp)\n",
        "\n",
        "#print(covs_arr[3].shape)\n",
        "covs_list = list(covs_arr)\n",
        "#print(covs_list)"
      ],
      "metadata": {
        "id": "fwflCPAP2wXL"
      },
      "execution_count": null,
      "outputs": []
    },
    {
      "cell_type": "markdown",
      "source": [
        "### Part 3 : ML"
      ],
      "metadata": {
        "id": "e67sIGHWUhNj"
      }
    },
    {
      "cell_type": "code",
      "source": [
        "ps_diagnal_ml = []\n",
        "#split dataset to train and test \n",
        "#use zip in for loop: create an iterator that produces tuples of the form (x, y)\n",
        "tts = [train_test_split(X, y, test_size = 0.3, random_state = 42) for X, y in zip(Xcs, ycs)]\n",
        "#tts = [Xtrain, Xtest, ytrain , ytest]\n",
        "# print(len(tts[0][0]))  #3094  Xtrain for subclass1  \n",
        "# print(len(tts[0][1]))  #1326  Xtest for subclass1\n",
        "# print(len(tts[0][2]))  #3094  ytrain for subclass1\n",
        "# print(len(tts[0][3]))  #1326  ytest for subclass1\n",
        "\n",
        "means = [np.mean(t[0], axis=0) for t in tts]  #find mean along coloumn\n",
        "#print(len(means)) # we have 4 mean for each of our class\n",
        "\n",
        "#Initalize value \n",
        "corrects_train_diagnal_ml = [0 for i in range(len(classes))]\n",
        "wrongs_train_diagnal_ml = [0 for i in range(len(classes))]\n",
        "accs_train_diagnal_ml = [0 for i in range(len(classes))]\n",
        "corrects_test_diagnal_ml = [0 for i in range(len(classes))]\n",
        "wrongs_test_diagnal_ml = [0 for i in range(len(classes))]\n",
        "accs_test_diagnal_ml = [0 for i in range(len(classes))]\n",
        "\n",
        "for i, cls in enumerate(classes): \n",
        "  print(f'Calculating class {cls} performance...')\n",
        "  Xtrain, Xtest, ytrain, ytest = list(map(np.array, tts[i]))\n",
        "  ps_diagnal_ml = [[multivariate_normal.pdf(Xtrain[j], mean = means[k], cov = covs_list[k], allow_singular = True) for k in range(len(classes))] for j in tqdm(range(len(Xtrain)))]\n",
        "  ps_diagnal_ml = np.argmax(ps_diagnal_ml, axis=-1)\n",
        "  corrects_train_diagnal_ml[i] = len(ps_diagnal_ml[ps_diagnal_ml == i])\n",
        "  wrongs_train_diagnal_ml[i] = len(ps_diagnal_ml[ps_diagnal_ml != i])\n",
        "  accs_train_diagnal_ml[i] = corrects_train_diagnal_ml[i] / len(Xtrain)\n",
        "\n",
        "  ps_diagnal_ml = [[multivariate_normal.pdf(Xtest[j], mean = means[k], cov = covs_list[k], allow_singular = True) for k in range(len(classes))] for j in tqdm(range(len(Xtest)))]\n",
        "  ps_diagnal_ml = np.argmax(ps_diagnal_ml, axis=-1)\n",
        "  corrects_test_diagnal_ml[i] = len(ps_diagnal_ml[ps_diagnal_ml == i])\n",
        "  wrongs_test_diagnal_ml[i] = len(ps_diagnal_ml[ps_diagnal_ml != i])\n",
        "  accs_test_diagnal_ml[i] = corrects_test_diagnal_ml[i] / len(Xtest)\n",
        "\n",
        "print(\"\\n\")\n",
        "print(corrects_train_diagnal_ml, wrongs_train_diagnal_ml, accs_train_diagnal_ml)\n",
        "print(corrects_test_diagnal_ml, wrongs_test_diagnal_ml, accs_test_diagnal_ml)"
      ],
      "metadata": {
        "colab": {
          "base_uri": "https://localhost:8080/"
        },
        "id": "JV0Kc5bYUbi3",
        "outputId": "0aa3b2da-af09-4eb6-cbe1-0f4112d06f0b"
      },
      "execution_count": null,
      "outputs": [
        {
          "output_type": "stream",
          "name": "stdout",
          "text": [
            "Calculating class Leptodactylidae performance...\n"
          ]
        },
        {
          "output_type": "stream",
          "name": "stderr",
          "text": [
            "100%|██████████| 3094/3094 [00:03<00:00, 856.72it/s]\n",
            "100%|██████████| 1326/1326 [00:02<00:00, 597.82it/s]\n"
          ]
        },
        {
          "output_type": "stream",
          "name": "stdout",
          "text": [
            "Calculating class Dendrobatidae performance...\n"
          ]
        },
        {
          "output_type": "stream",
          "name": "stderr",
          "text": [
            "100%|██████████| 379/379 [00:00<00:00, 706.76it/s]\n",
            "100%|██████████| 163/163 [00:00<00:00, 1254.83it/s]\n"
          ]
        },
        {
          "output_type": "stream",
          "name": "stdout",
          "text": [
            "Calculating class Hylidae performance...\n"
          ]
        },
        {
          "output_type": "stream",
          "name": "stderr",
          "text": [
            "100%|██████████| 1515/1515 [00:01<00:00, 1107.33it/s]\n",
            "100%|██████████| 650/650 [00:00<00:00, 1064.06it/s]\n"
          ]
        },
        {
          "output_type": "stream",
          "name": "stdout",
          "text": [
            "Calculating class Bufonidae performance...\n"
          ]
        },
        {
          "output_type": "stream",
          "name": "stderr",
          "text": [
            "100%|██████████| 47/47 [00:00<00:00, 1456.26it/s]\n",
            "100%|██████████| 21/21 [00:00<00:00, 1100.62it/s]"
          ]
        },
        {
          "output_type": "stream",
          "name": "stdout",
          "text": [
            "\n",
            "\n",
            "[2692, 356, 1290, 42] [402, 23, 225, 5] [0.870071105365223, 0.9393139841688655, 0.8514851485148515, 0.8936170212765957]\n",
            "[1120, 156, 543, 18] [206, 7, 107, 3] [0.8446455505279035, 0.9570552147239264, 0.8353846153846154, 0.8571428571428571]\n"
          ]
        },
        {
          "output_type": "stream",
          "name": "stderr",
          "text": [
            "\n"
          ]
        }
      ]
    },
    {
      "cell_type": "markdown",
      "source": [
        "###Part 3: confusion matrix ML"
      ],
      "metadata": {
        "id": "KUcXEjPgjPEp"
      }
    },
    {
      "cell_type": "code",
      "source": [
        "Xarr = np.array(X)\n",
        "ps_diagnal_ml = [[multivariate_normal.pdf(Xarr[j], mean = means[k], cov = covs_list[k], allow_singular = True) for k in range(len(classes))] for j in tqdm(range(len(X)))]\n",
        "ps_diagnal_ml = np.argmax(ps_diagnal_ml, axis=-1)"
      ],
      "metadata": {
        "colab": {
          "base_uri": "https://localhost:8080/"
        },
        "id": "xQYMtTYTV6a5",
        "outputId": "eb8b5cd9-0239-403d-eb99-2843d082d13e"
      },
      "execution_count": null,
      "outputs": [
        {
          "output_type": "stream",
          "name": "stderr",
          "text": [
            "100%|██████████| 7195/7195 [00:06<00:00, 1104.13it/s]\n"
          ]
        }
      ]
    },
    {
      "cell_type": "code",
      "source": [
        "conf = confusion_matrix(y, ps_diagnal_ml) \n",
        "plt.figure(figsize = (10,7))\n",
        "sn.heatmap(conf, annot=True, fmt = \"d\", linewidths = 0.5)\n",
        "plt.show()"
      ],
      "metadata": {
        "colab": {
          "base_uri": "https://localhost:8080/",
          "height": 428
        },
        "id": "fFKgNTTHjpv5",
        "outputId": "94196c19-85db-47eb-931b-7430c0102e5a"
      },
      "execution_count": null,
      "outputs": [
        {
          "output_type": "display_data",
          "data": {
            "text/plain": [
              "<Figure size 720x504 with 2 Axes>"
            ],
            "image/png": "[encoded data removed]"
          },
          "metadata": {
            "needs_background": "light"
          }
        }
      ]
    },
    {
      "cell_type": "markdown",
      "source": [
        "###Part3:MAP"
      ],
      "metadata": {
        "id": "HXbVk5Ozj2Iz"
      }
    },
    {
      "cell_type": "code",
      "source": [
        "ps_diagnal_map = []\n",
        "#split dataset to train and test \n",
        "#use zip in for loop: create an iterator that produces tuples of the form (x, y)\n",
        "tts = [train_test_split(X, y, test_size = 0.3, random_state = 42) for X, y in zip(Xcs, ycs)]\n",
        "\n",
        "means = [np.mean(t[0], axis=0) for t in tts]  #find mean along coloumn\n",
        "#print(len(means)) # we have 4 mean for each of our class\n",
        "\n",
        "#Initalize value \n",
        "corrects_train_diagnal_map = [0 for i in range(len(classes))]\n",
        "wrongs_train_diagnal_map = [0 for i in range(len(classes))]\n",
        "accs_train_diagnal_map = [0 for i in range(len(classes))]\n",
        "corrects_test_diagnal_map = [0 for i in range(len(classes))]\n",
        "wrongs_test_diagnal_map = [0 for i in range(len(classes))]\n",
        "accs_test_diagnal_map = [0 for i in range(len(classes))]\n",
        "\n",
        "for i, cls in enumerate(classes): \n",
        "  print(f'Calculating class {cls} performance...')\n",
        "  Xtrain, Xtest, ytrain, ytest = list(map(np.array, tts[i]))\n",
        "  ps_diagnal_map = [[priors[k] * multivariate_normal.pdf(Xtrain[j], mean = means[k], cov = covs_list[k], allow_singular = True) for k in range(len(classes))] for j in tqdm(range(len(Xtrain)))]\n",
        "  ps_diagnal_map = np.argmax(ps_diagnal_map, axis=-1)\n",
        "  corrects_train_diagnal_map[i] = len(ps_diagnal_map[ps_diagnal_map == i])\n",
        "  wrongs_train_diagnal_map[i] = len(ps_diagnal_map[ps_diagnal_map != i])\n",
        "  accs_train_diagnal_map[i] = corrects_train_diagnal_map[i] / len(Xtrain)\n",
        "\n",
        "  ps_diagnal_map = [[multivariate_normal.pdf(Xtest[j], mean = means[k], cov = covs_list[k], allow_singular = True) for k in range(len(classes))] for j in tqdm(range(len(Xtest)))]\n",
        "  ps_diagnal_map = np.argmax(ps_diagnal_map, axis=-1)\n",
        "  corrects_test_diagnal_map[i] = len(ps_diagnal_map[ps_diagnal_map == i])\n",
        "  wrongs_test_diagnal_map[i] = len(ps_diagnal_map[ps_diagnal_map != i])\n",
        "  accs_test_diagnal_map[i] = corrects_test_diagnal_map[i] / len(Xtest)\n",
        "\n",
        "print(\"\\n\")\n",
        "print(corrects_train_diagnal_map, wrongs_train_diagnal_map, accs_train_diagnal_map)\n",
        "print(corrects_test_diagnal_map, wrongs_test_diagnal_map, accs_test_diagnal_map)"
      ],
      "metadata": {
        "colab": {
          "base_uri": "https://localhost:8080/"
        },
        "id": "I-xopXjBjtRc",
        "outputId": "fa4ac411-3395-4a70-f068-2cd0e1ca1e33"
      },
      "execution_count": null,
      "outputs": [
        {
          "output_type": "stream",
          "name": "stdout",
          "text": [
            "Calculating class Leptodactylidae performance...\n"
          ]
        },
        {
          "output_type": "stream",
          "name": "stderr",
          "text": [
            "100%|██████████| 3094/3094 [00:02<00:00, 1133.26it/s]\n",
            "100%|██████████| 1326/1326 [00:01<00:00, 1057.14it/s]\n"
          ]
        },
        {
          "output_type": "stream",
          "name": "stdout",
          "text": [
            "Calculating class Dendrobatidae performance...\n"
          ]
        },
        {
          "output_type": "stream",
          "name": "stderr",
          "text": [
            "100%|██████████| 379/379 [00:00<00:00, 1367.57it/s]\n",
            "100%|██████████| 163/163 [00:00<00:00, 930.39it/s]\n"
          ]
        },
        {
          "output_type": "stream",
          "name": "stdout",
          "text": [
            "Calculating class Hylidae performance...\n"
          ]
        },
        {
          "output_type": "stream",
          "name": "stderr",
          "text": [
            "100%|██████████| 1515/1515 [00:01<00:00, 1361.41it/s]\n",
            "100%|██████████| 650/650 [00:00<00:00, 1243.44it/s]\n"
          ]
        },
        {
          "output_type": "stream",
          "name": "stdout",
          "text": [
            "Calculating class Bufonidae performance...\n"
          ]
        },
        {
          "output_type": "stream",
          "name": "stderr",
          "text": [
            "100%|██████████| 47/47 [00:00<00:00, 1507.82it/s]\n",
            "100%|██████████| 21/21 [00:00<00:00, 1221.13it/s]"
          ]
        },
        {
          "output_type": "stream",
          "name": "stdout",
          "text": [
            "\n",
            "\n",
            "[2737, 336, 1332, 41] [357, 43, 183, 6] [0.8846153846153846, 0.8865435356200527, 0.8792079207920792, 0.8723404255319149]\n",
            "[1120, 156, 543, 18] [206, 7, 107, 3] [0.8446455505279035, 0.9570552147239264, 0.8353846153846154, 0.8571428571428571]\n"
          ]
        },
        {
          "output_type": "stream",
          "name": "stderr",
          "text": [
            "\n"
          ]
        }
      ]
    },
    {
      "cell_type": "code",
      "source": [
        "Xarr = np.array(X)\n",
        "ps_diagnal_map = [[multivariate_normal.pdf(Xarr[j], mean = means[k], cov = covs_list[k], allow_singular = True) for k in range(len(classes))] for j in tqdm(range(len(X)))]\n",
        "ps_diagnal_map = np.argmax(ps_diagnal_map, axis=-1)\n",
        "conf = confusion_matrix(y, ps_diagnal_map) \n",
        "plt.figure(figsize = (10,7))\n",
        "sn.heatmap(conf, annot=True, fmt = \"d\", linewidths = 0.5)\n",
        "plt.show()"
      ],
      "metadata": {
        "colab": {
          "base_uri": "https://localhost:8080/",
          "height": 446
        },
        "id": "Q3IT76HClfxP",
        "outputId": "1be1caaa-a8fa-47ce-d7ee-cba64a3d8c24"
      },
      "execution_count": null,
      "outputs": [
        {
          "output_type": "stream",
          "name": "stderr",
          "text": [
            "100%|██████████| 7195/7195 [00:07<00:00, 943.92it/s]\n"
          ]
        },
        {
          "output_type": "display_data",
          "data": {
            "text/plain": [
              "<Figure size 720x504 with 2 Axes>"
            ],
            "image/png": "[encoded data removed]"
          },
          "metadata": {
            "needs_background": "light"
          }
        }
      ]
    },
    {
      "cell_type": "markdown",
      "source": [
        "### part4 : Kfolds"
      ],
      "metadata": {
        "id": "Tm---CaL0w3R"
      }
    },
    {
      "cell_type": "markdown",
      "source": [
        "###part4: Kfolds ML"
      ],
      "metadata": {
        "id": "jAI7nalt26FK"
      }
    },
    {
      "cell_type": "code",
      "source": [
        "n_folds =  4\n",
        "ps_nfold = []\n",
        "#split dataset to train and test \n",
        "#use zip in for loop: create an iterator that produces tuples of the form (x, y)\n",
        "tts = [train_test_split(X, y, test_size = 1/n_folds, random_state = 42) for X, y in zip(Xcs, ycs)]\n",
        "#tts = [Xtrain, Xtest, ytrain , ytest]\n",
        "\n",
        "\n",
        "means_nfolds = [np.mean(t[0], axis=0) for t in tts]  #find mean along coloumn\n",
        "#print(len(means)) # we have 4 mean for each of our class\n",
        "covs_nfolds = [np.cov(t[0], rowvar=False) for t in tts]    # rowvar=false:each column represents a variable, while the rows contain observations.\n",
        "#print(len(covs)) # we have 4 cov for each of our class\n",
        "\n",
        "#Initalize value \n",
        "corrects_train_nfold = [0 for i in range(len(classes))]\n",
        "wrongs_train_nfold = [0 for i in range(len(classes))]\n",
        "accs_train_nfold = [0 for i in range(len(classes))]\n",
        "corrects_test_nfold = [0 for i in range(len(classes))]\n",
        "wrongs_test_nfold = [0 for i in range(len(classes))]\n",
        "accs_test_nfold = [0 for i in range(len(classes))]\n",
        "\n",
        "for i, cls in enumerate(classes): \n",
        "  print(f'Calculating class {cls} performance...')\n",
        "  Xtrain, Xtest, ytrain, ytest = list(map(np.array, tts[i]))\n",
        "  ps_nfold = [[multivariate_normal.pdf(Xtrain[j], mean = means_nfolds[k], cov = covs_nfolds[k], allow_singular = True) for k in range(len(classes))] for j in tqdm(range(len(Xtrain)))]\n",
        "  ps_nfold = np.argmax(ps_nfold, axis=-1)\n",
        "  corrects_train_nfold[i] = len(ps_nfold[ps_nfold == i])\n",
        "  wrongs_train_nfold[i] = len(ps_nfold[ps_nfold != i])\n",
        "  accs_train_nfold[i] = corrects_train_nfold[i] / len(Xtrain)\n",
        "\n",
        "  ps_nfold = [[multivariate_normal.pdf(Xtest[j], mean = means_nfolds[k], cov = covs_nfolds[k], allow_singular = True) for k in range(len(classes))] for j in tqdm(range(len(Xtest)))]\n",
        "  ps_nfold = np.argmax(ps_nfold, axis=-1)\n",
        "  corrects_test_nfold[i] = len(ps_nfold[ps_nfold == i])\n",
        "  wrongs_test_nfold[i] = len(ps_nfold[ps_nfold != i])\n",
        "  accs_test_nfold[i] = corrects_test_nfold[i] / len(Xtest)\n",
        "\n",
        "print(\"\\n\")\n",
        "print(corrects_train_nfold, wrongs_train_nfold, accs_train_nfold)\n",
        "print(corrects_test_nfold, wrongs_test_nfold, accs_test_nfold)"
      ],
      "metadata": {
        "colab": {
          "base_uri": "https://localhost:8080/"
        },
        "id": "F5vBGiYalldk",
        "outputId": "1cad69f9-eb59-4a07-ccdc-0fc394a54d44"
      },
      "execution_count": null,
      "outputs": [
        {
          "output_type": "stream",
          "name": "stdout",
          "text": [
            "Calculating class Leptodactylidae performance...\n"
          ]
        },
        {
          "output_type": "stream",
          "name": "stderr",
          "text": [
            "100%|██████████| 3315/3315 [00:08<00:00, 371.66it/s]\n",
            "100%|██████████| 1105/1105 [00:02<00:00, 491.68it/s]\n"
          ]
        },
        {
          "output_type": "stream",
          "name": "stdout",
          "text": [
            "Calculating class Dendrobatidae performance...\n"
          ]
        },
        {
          "output_type": "stream",
          "name": "stderr",
          "text": [
            "100%|██████████| 406/406 [00:00<00:00, 531.43it/s]\n",
            "100%|██████████| 136/136 [00:00<00:00, 552.33it/s]\n"
          ]
        },
        {
          "output_type": "stream",
          "name": "stdout",
          "text": [
            "Calculating class Hylidae performance...\n"
          ]
        },
        {
          "output_type": "stream",
          "name": "stderr",
          "text": [
            "100%|██████████| 1623/1623 [00:03<00:00, 533.76it/s]\n",
            "100%|██████████| 542/542 [00:01<00:00, 423.72it/s]\n"
          ]
        },
        {
          "output_type": "stream",
          "name": "stdout",
          "text": [
            "Calculating class Bufonidae performance...\n"
          ]
        },
        {
          "output_type": "stream",
          "name": "stderr",
          "text": [
            "100%|██████████| 51/51 [00:00<00:00, 566.57it/s]\n",
            "100%|██████████| 17/17 [00:00<00:00, 401.36it/s]"
          ]
        },
        {
          "output_type": "stream",
          "name": "stdout",
          "text": [
            "\n",
            "\n",
            "[3231, 398, 1548, 51] [84, 8, 75, 0] [0.9746606334841629, 0.9802955665024631, 0.9537892791127541, 1.0]\n",
            "[1055, 131, 515, 14] [50, 5, 27, 3] [0.9547511312217195, 0.9632352941176471, 0.9501845018450185, 0.8235294117647058]\n"
          ]
        },
        {
          "output_type": "stream",
          "name": "stderr",
          "text": [
            "\n"
          ]
        }
      ]
    },
    {
      "cell_type": "markdown",
      "source": [
        "###part4:Kfolds ML Confusion matrix"
      ],
      "metadata": {
        "id": "pdcGGNBT29XV"
      }
    },
    {
      "cell_type": "code",
      "source": [
        "Xarr = np.array(X)\n",
        "ps_nfold = [[multivariate_normal.pdf(Xarr[j], mean = means_nfolds[k], cov = covs_nfolds[k], allow_singular = True) for k in range(len(classes))] for j in tqdm(range(len(X)))]\n",
        "ps_nfold = np.argmax(ps_nfold, axis=-1)\n",
        "\n",
        "conf = confusion_matrix(y, ps_nfold) \n",
        "plt.figure(figsize = (10,7))\n",
        "sn.heatmap(conf, annot=True, fmt = \"d\", linewidths = 0.5)\n",
        "plt.show()"
      ],
      "metadata": {
        "colab": {
          "base_uri": "https://localhost:8080/",
          "height": 446
        },
        "id": "LbESlHaw2sC1",
        "outputId": "0ee58872-09da-479e-f774-6133326575fa"
      },
      "execution_count": null,
      "outputs": [
        {
          "output_type": "stream",
          "name": "stderr",
          "text": [
            "100%|██████████| 7195/7195 [00:14<00:00, 511.71it/s]\n"
          ]
        },
        {
          "output_type": "display_data",
          "data": {
            "text/plain": [
              "<Figure size 720x504 with 2 Axes>"
            ],
            "image/png": "[encoded data removed]"
          },
          "metadata": {
            "needs_background": "light"
          }
        }
      ]
    },
    {
      "cell_type": "markdown",
      "source": [
        "###Part4 : Kfolds MAP"
      ],
      "metadata": {
        "id": "mPoIyyWz4joo"
      }
    },
    {
      "cell_type": "code",
      "source": [
        "ps_nfolds_map = []\n",
        "# dfs = [df[df['Family'] == cls] for cls in classes]\n",
        "# Xcs = [df.iloc[:, :-1] for df in dfs]     #choose values for 4 class in family\n",
        "# ycs = [df.iloc[:, -1] for df in dfs]      #choose labels for 4 class in family\n",
        "\n",
        "#split dataset to train and test \n",
        "#use zip in for loop: create an iterator that produces tuples of the form (x, y)\n",
        "tts = [train_test_split(X, y, test_size = 1/n_folds, random_state = 42) for X, y in zip(Xcs, ycs)]\n",
        "\n",
        "means_nfolds = [np.mean(t[0], axis=0) for t in tts]  #find mean along coloumn\n",
        "#print(len(means)) # we have 4 mean for each of our class\n",
        "covs_nfolds = [np.cov(t[0], rowvar=False) for t in tts]    # rowvar=false:each column represents a variable, while the rows contain observations.\n",
        "#print(len(covs)) # we have 4 cov for each of our class\n",
        "\n",
        "#Initalize value \n",
        "corrects_train_nfolds_map = [0 for i in range(len(classes))]\n",
        "wrongs_train_nfolds_map = [0 for i in range(len(classes))]\n",
        "accs_train_nfolds_map = [0 for i in range(len(classes))]\n",
        "corrects_test_nfolds_map = [0 for i in range(len(classes))]\n",
        "wrongs_test_nfolds_map = [0 for i in range(len(classes))]\n",
        "accs_test_nfolds_map = [0 for i in range(len(classes))]\n",
        "\n",
        "for i, cls in enumerate(classes): \n",
        "  print(f'Calculating class {cls} performance...')\n",
        "  Xtrain, Xtest, ytrain, ytest = list(map(np.array, tts[i]))\n",
        "  ps_nfolds_map = [[priors[k] * multivariate_normal.pdf(Xtrain[j], mean = means_nfolds[k], cov = covs_nfolds[k], allow_singular = True) for k in range(len(classes))] for j in tqdm(range(len(Xtrain)))]\n",
        "  ps_nfolds_map = np.argmax(ps_nfolds_map, axis=-1)\n",
        "  corrects_train_nfolds_map[i] = len(ps_nfolds_map[ps_nfolds_map == i])\n",
        "  wrongs_train_nfolds_map[i] = len(ps_nfolds_map[ps_nfolds_map != i])\n",
        "  accs_train_nfolds_map[i] = corrects_train_nfolds_map[i] / len(Xtrain)\n",
        "\n",
        "  ps_nfolds_map = [[multivariate_normal.pdf(Xtest[j], mean = means_nfolds[k], cov = covs_nfolds[k], allow_singular = True) for k in range(len(classes))] for j in tqdm(range(len(Xtest)))]\n",
        "  ps_nfolds_map = np.argmax(ps_nfolds_map, axis=-1)\n",
        "  corrects_test_nfolds_map[i] = len(ps_nfolds_map[ps_nfolds_map == i])\n",
        "  wrongs_test_nfolds_map[i] = len(ps_nfolds_map[ps_nfolds_map != i])\n",
        "  accs_test_nfolds_map[i] = corrects_test_nfolds_map[i] / len(Xtest)\n",
        "\n",
        "print(\"\\n\")\n",
        "print(corrects_train_nfolds_map, wrongs_train_nfolds_map, accs_train_nfolds_map)\n",
        "print(corrects_test_nfolds_map, wrongs_test_nfolds_map, accs_test_nfolds_map)"
      ],
      "metadata": {
        "colab": {
          "base_uri": "https://localhost:8080/"
        },
        "id": "6OQd9Ec03KCe",
        "outputId": "1fa2ccde-19be-463e-828f-f27a0875d331"
      },
      "execution_count": null,
      "outputs": [
        {
          "output_type": "stream",
          "name": "stdout",
          "text": [
            "Calculating class Leptodactylidae performance...\n"
          ]
        },
        {
          "output_type": "stream",
          "name": "stderr",
          "text": [
            "100%|██████████| 3315/3315 [00:07<00:00, 414.79it/s]\n",
            "100%|██████████| 1105/1105 [00:02<00:00, 493.44it/s]\n"
          ]
        },
        {
          "output_type": "stream",
          "name": "stdout",
          "text": [
            "Calculating class Dendrobatidae performance...\n"
          ]
        },
        {
          "output_type": "stream",
          "name": "stderr",
          "text": [
            "100%|██████████| 406/406 [00:00<00:00, 498.73it/s]\n",
            "100%|██████████| 136/136 [00:00<00:00, 526.38it/s]\n"
          ]
        },
        {
          "output_type": "stream",
          "name": "stdout",
          "text": [
            "Calculating class Hylidae performance...\n"
          ]
        },
        {
          "output_type": "stream",
          "name": "stderr",
          "text": [
            "100%|██████████| 1623/1623 [00:03<00:00, 515.42it/s]\n",
            "100%|██████████| 542/542 [00:00<00:00, 549.71it/s]\n"
          ]
        },
        {
          "output_type": "stream",
          "name": "stdout",
          "text": [
            "Calculating class Bufonidae performance...\n"
          ]
        },
        {
          "output_type": "stream",
          "name": "stderr",
          "text": [
            "100%|██████████| 51/51 [00:00<00:00, 527.98it/s]\n",
            "100%|██████████| 17/17 [00:00<00:00, 469.26it/s]"
          ]
        },
        {
          "output_type": "stream",
          "name": "stdout",
          "text": [
            "\n",
            "\n",
            "[3236, 395, 1534, 51] [79, 11, 89, 0] [0.9761689291101056, 0.9729064039408867, 0.9451632778804683, 1.0]\n",
            "[1055, 131, 515, 14] [50, 5, 27, 3] [0.9547511312217195, 0.9632352941176471, 0.9501845018450185, 0.8235294117647058]\n"
          ]
        },
        {
          "output_type": "stream",
          "name": "stderr",
          "text": [
            "\n"
          ]
        }
      ]
    },
    {
      "cell_type": "code",
      "source": [
        "Xarr = np.array(X)\n",
        "ps_nfolds_map = [[multivariate_normal.pdf(Xarr[j], mean = means_nfolds[k], cov = covs_nfolds[k], allow_singular = True) for k in range(len(classes))] for j in tqdm(range(len(X)))]\n",
        "ps_nfolds_map = np.argmax(ps_nfolds_map, axis=-1)\n",
        "\n",
        "conf = confusion_matrix(y, ps_nfolds_map) \n",
        "plt.figure(figsize = (10,7))\n",
        "sn.heatmap(conf, annot=True, fmt = \"d\", linewidths = 0.5)\n",
        "plt.show()"
      ],
      "metadata": {
        "colab": {
          "base_uri": "https://localhost:8080/",
          "height": 446
        },
        "id": "9gzqsi0T4k61",
        "outputId": "3672fb20-2651-4452-ab5c-cf5301cb4f95"
      },
      "execution_count": null,
      "outputs": [
        {
          "output_type": "stream",
          "name": "stderr",
          "text": [
            "100%|██████████| 7195/7195 [00:31<00:00, 228.77it/s]\n"
          ]
        },
        {
          "output_type": "display_data",
          "data": {
            "text/plain": [
              "<Figure size 720x504 with 2 Axes>"
            ],
            "image/png": "[encoded data removed]"
          },
          "metadata": {
            "needs_background": "light"
          }
        }
      ]
    },
    {
      "cell_type": "markdown",
      "source": [
        "###Part4 : Kfolds ML diagnal covariance"
      ],
      "metadata": {
        "id": "tZC7ErK55DzW"
      }
    },
    {
      "cell_type": "code",
      "source": [
        "covs_arr_nfolds = []\n",
        "for item in range(4):\n",
        "  temp = (np.diag(np.diag(np.array(covs_nfolds[item]))))\n",
        "  covs_arr_nfolds.append(temp)\n",
        "\n",
        "#print(covs_arr[3].shape)\n",
        "covs_list_nfolds = list(covs_arr_nfolds)\n",
        "#print(covs_list)"
      ],
      "metadata": {
        "id": "Zdu9Kn3ySwQi"
      },
      "execution_count": null,
      "outputs": []
    },
    {
      "cell_type": "code",
      "source": [
        "ps_diagnal_nfolds = []\n",
        "#split dataset to train and test \n",
        "#use zip in for loop: create an iterator that produces tuples of the form (x, y)\n",
        "tts = [train_test_split(X, y, test_size =1/n_folds, random_state = 42) for X, y in zip(Xcs, ycs)]\n",
        "\n",
        "means_nfolds = [np.mean(t[0], axis=0) for t in tts]  #find mean along coloumn\n",
        "#print(len(means)) # we have 4 mean for each of our class\n",
        "\n",
        "#Initalize value \n",
        "corrects_train_diagnal_nfolds = [0 for i in range(len(classes))]\n",
        "wrongs_train_diagnal_nfolds = [0 for i in range(len(classes))]\n",
        "accs_train_diagnal_nfolds = [0 for i in range(len(classes))]\n",
        "corrects_test_diagnal_nfolds = [0 for i in range(len(classes))]\n",
        "wrongs_test_diagnal_nfolds = [0 for i in range(len(classes))]\n",
        "accs_test_diagnal_nfolds = [0 for i in range(len(classes))]\n",
        "\n",
        "for i, cls in enumerate(classes): \n",
        "  print(f'Calculating class {cls} performance...')\n",
        "  Xtrain, Xtest, ytrain, ytest = list(map(np.array, tts[i]))\n",
        "  ps_diagnal_nfolds = [[multivariate_normal.pdf(Xtrain[j], mean = means_nfolds[k], cov = covs_list_nfolds[k], allow_singular = True) for k in range(len(classes))] for j in tqdm(range(len(Xtrain)))]\n",
        "  ps_diagnal_nfolds = np.argmax(ps_diagnal_nfolds, axis=-1)\n",
        "  corrects_train_diagnal_nfolds[i] = len(ps_diagnal_nfolds[ps_diagnal_nfolds == i])\n",
        "  wrongs_train_diagnal_nfolds[i] = len(ps_diagnal_nfolds[ps_diagnal_nfolds != i])\n",
        "  accs_train_diagnal_nfolds[i] = corrects_train_diagnal_nfolds[i] / len(Xtrain)\n",
        "\n",
        "  ps_diagnal_nfolds = [[multivariate_normal.pdf(Xtest[j], mean = means_nfolds[k], cov = covs_list_nfolds[k], allow_singular = True) for k in range(len(classes))] for j in tqdm(range(len(Xtest)))]\n",
        "  ps_diagnal_nfolds = np.argmax(ps_diagnal_nfolds, axis=-1)\n",
        "  corrects_test_diagnal_nfolds[i] = len(ps_diagnal_nfolds[ps_diagnal_nfolds == i])\n",
        "  wrongs_test_diagnal_nfolds[i] = len(ps_diagnal_nfolds[ps_diagnal_nfolds != i])\n",
        "  accs_test_diagnal_nfolds[i] = corrects_test_diagnal_nfolds[i] / len(Xtest)\n",
        "\n",
        "print(\"\\n\")\n",
        "print(corrects_train_diagnal_nfolds, wrongs_train_diagnal_nfolds, accs_train_diagnal_nfolds)\n",
        "print(corrects_test_diagnal_nfolds, wrongs_test_diagnal_nfolds, accs_test_diagnal_nfolds)"
      ],
      "metadata": {
        "colab": {
          "base_uri": "https://localhost:8080/"
        },
        "id": "hpY_w7ux42mo",
        "outputId": "5c1fdffb-53ee-4d99-b669-0002add24291"
      },
      "execution_count": null,
      "outputs": [
        {
          "output_type": "stream",
          "name": "stdout",
          "text": [
            "Calculating class Leptodactylidae performance...\n"
          ]
        },
        {
          "output_type": "stream",
          "name": "stderr",
          "text": [
            "100%|██████████| 3315/3315 [00:04<00:00, 801.16it/s]\n",
            "100%|██████████| 1105/1105 [00:01<00:00, 620.94it/s]\n"
          ]
        },
        {
          "output_type": "stream",
          "name": "stdout",
          "text": [
            "Calculating class Dendrobatidae performance...\n"
          ]
        },
        {
          "output_type": "stream",
          "name": "stderr",
          "text": [
            "100%|██████████| 406/406 [00:00<00:00, 593.87it/s]\n",
            "100%|██████████| 136/136 [00:00<00:00, 784.61it/s]\n"
          ]
        },
        {
          "output_type": "stream",
          "name": "stdout",
          "text": [
            "Calculating class Hylidae performance...\n"
          ]
        },
        {
          "output_type": "stream",
          "name": "stderr",
          "text": [
            "100%|██████████| 1623/1623 [00:02<00:00, 613.31it/s]\n",
            "100%|██████████| 542/542 [00:01<00:00, 520.65it/s]\n"
          ]
        },
        {
          "output_type": "stream",
          "name": "stdout",
          "text": [
            "Calculating class Bufonidae performance...\n"
          ]
        },
        {
          "output_type": "stream",
          "name": "stderr",
          "text": [
            "100%|██████████| 51/51 [00:00<00:00, 583.26it/s]\n",
            "100%|██████████| 17/17 [00:00<00:00, 637.18it/s]"
          ]
        },
        {
          "output_type": "stream",
          "name": "stdout",
          "text": [
            "\n",
            "\n",
            "[2864, 385, 1364, 45] [451, 21, 259, 6] [0.8639517345399699, 0.9482758620689655, 0.8404189772027111, 0.8823529411764706]\n",
            "[921, 130, 446, 15] [184, 6, 96, 2] [0.8334841628959276, 0.9558823529411765, 0.8228782287822878, 0.8823529411764706]\n"
          ]
        },
        {
          "output_type": "stream",
          "name": "stderr",
          "text": [
            "\n"
          ]
        }
      ]
    },
    {
      "cell_type": "code",
      "source": [
        "Xarr = np.array(X)\n",
        "ps_diagnal_nfolds = [[multivariate_normal.pdf(Xarr[j], mean = means_nfolds[k], cov = covs_list_nfolds[k], allow_singular = True) for k in range(len(classes))] for j in tqdm(range(len(X)))]\n",
        "ps_diagnal_nfolds = np.argmax(ps_diagnal_nfolds, axis=-1)\n",
        "\n",
        "conf = confusion_matrix(y, ps_diagnal_nfolds) \n",
        "plt.figure(figsize = (10,7))\n",
        "sn.heatmap(conf, annot=True, fmt = \"d\", linewidths = 0.5)\n",
        "plt.show()"
      ],
      "metadata": {
        "colab": {
          "base_uri": "https://localhost:8080/",
          "height": 446
        },
        "id": "WRRWW9FQ5LD6",
        "outputId": "e5b8d646-d434-4736-ba86-1865d53b5af4"
      },
      "execution_count": null,
      "outputs": [
        {
          "output_type": "stream",
          "name": "stderr",
          "text": [
            "100%|██████████| 7195/7195 [00:14<00:00, 494.37it/s] \n"
          ]
        },
        {
          "output_type": "display_data",
          "data": {
            "text/plain": [
              "<Figure size 720x504 with 2 Axes>"
            ],
            "image/png": "[encoded data removed]"
          },
          "metadata": {
            "needs_background": "light"
          }
        }
      ]
    },
    {
      "cell_type": "markdown",
      "source": [
        "###Part4 : Kfolds Map dignal covariance "
      ],
      "metadata": {
        "id": "ZmE7XUFv5ZBJ"
      }
    },
    {
      "cell_type": "code",
      "source": [
        "ps_nfolds_map = []\n",
        "#split dataset to train and test \n",
        "#use zip in for loop: create an iterator that produces tuples of the form (x, y)\n",
        "tts = [train_test_split(X, y, test_size = 0.3, random_state = 42) for X, y in zip(Xcs, ycs)]\n",
        "\n",
        "means_nfolds = [np.mean(t[0], axis=0) for t in tts]  #find mean along coloumn\n",
        "#print(len(means)) # we have 4 mean for each of our class\n",
        "\n",
        "#Initalize value \n",
        "corrects_train_map_diagnal_nfolds = [0 for i in range(len(classes))]\n",
        "wrongs_train_map_diagnal_nfolds = [0 for i in range(len(classes))]\n",
        "accs_train_map_diagnal_nfolds = [0 for i in range(len(classes))]\n",
        "corrects_test_map_diagnal_nfolds = [0 for i in range(len(classes))]\n",
        "wrongs_test_map_diagnal_nfolds = [0 for i in range(len(classes))]\n",
        "accs_test_map_diagnal_nfolds= [0 for i in range(len(classes))]\n",
        "\n",
        "for i, cls in enumerate(classes): \n",
        "  print(f'Calculating class {cls} performance...')\n",
        "  Xtrain, Xtest, ytrain, ytest = list(map(np.array, tts[i]))\n",
        "  ps_nfolds_map = [[priors[k] * multivariate_normal.pdf(Xtrain[j], mean = means_nfolds[k], cov =  covs_list_nfolds[k], allow_singular = True) for k in range(len(classes))] for j in tqdm(range(len(Xtrain)))]\n",
        "  ps_nfolds_map = np.argmax(ps_nfolds_map, axis=-1)\n",
        "  corrects_train_map_diagnal_nfolds[i] = len(ps_nfolds_map[ps_nfolds_map == i])\n",
        "  wrongs_train_map_diagnal_nfolds[i] = len(ps_nfolds_map[ps_nfolds_map != i])\n",
        "  accs_train_map_diagnal_nfolds[i] = corrects_train_map_diagnal_nfolds[i] / len(Xtrain)\n",
        "\n",
        "  ps_nfolds_map = [[multivariate_normal.pdf(Xtest[j], mean = means_nfolds[k], cov = covs_list_nfolds[k], allow_singular = True) for k in range(len(classes))] for j in tqdm(range(len(Xtest)))]\n",
        "  ps_nfolds_map = np.argmax(ps_nfolds_map, axis=-1)\n",
        "  corrects_test_map_diagnal_nfolds[i] = len(ps_nfolds_map[ps_nfolds_map == i])\n",
        "  wrongs_test_map_diagnal_nfolds[i] = len(ps_nfolds_map[ps_nfolds_map != i])\n",
        "  accs_test_map_diagnal_nfolds[i] = corrects_test_map_diagnal_nfolds[i] / len(Xtest)\n",
        "\n",
        "print(\"\\n\")\n",
        "print(corrects_train_map_diagnal_nfolds, wrongs_train_map_diagnal_nfolds, accs_train_map_diagnal_nfolds)\n",
        "print(corrects_test_map_diagnal_nfolds, wrongs_test_map_diagnal_nfolds, accs_test_map_diagnal_nfolds)"
      ],
      "metadata": {
        "colab": {
          "base_uri": "https://localhost:8080/"
        },
        "id": "B-v_yYUh5PxC",
        "outputId": "81324217-e730-47dd-da24-f0737f1a0908"
      },
      "execution_count": null,
      "outputs": [
        {
          "output_type": "stream",
          "name": "stdout",
          "text": [
            "Calculating class Leptodactylidae performance...\n"
          ]
        },
        {
          "output_type": "stream",
          "name": "stderr",
          "text": [
            "100%|██████████| 3094/3094 [00:02<00:00, 1322.28it/s]\n",
            "100%|██████████| 1326/1326 [00:01<00:00, 1322.33it/s]\n"
          ]
        },
        {
          "output_type": "stream",
          "name": "stdout",
          "text": [
            "Calculating class Dendrobatidae performance...\n"
          ]
        },
        {
          "output_type": "stream",
          "name": "stderr",
          "text": [
            "100%|██████████| 379/379 [00:00<00:00, 1036.28it/s]\n",
            "100%|██████████| 163/163 [00:00<00:00, 1253.23it/s]\n"
          ]
        },
        {
          "output_type": "stream",
          "name": "stdout",
          "text": [
            "Calculating class Hylidae performance...\n"
          ]
        },
        {
          "output_type": "stream",
          "name": "stderr",
          "text": [
            "100%|██████████| 1515/1515 [00:01<00:00, 1159.41it/s]\n",
            "100%|██████████| 650/650 [00:00<00:00, 998.25it/s]\n"
          ]
        },
        {
          "output_type": "stream",
          "name": "stdout",
          "text": [
            "Calculating class Bufonidae performance...\n"
          ]
        },
        {
          "output_type": "stream",
          "name": "stderr",
          "text": [
            "100%|██████████| 47/47 [00:00<00:00, 937.45it/s]\n",
            "100%|██████████| 21/21 [00:00<00:00, 844.47it/s]"
          ]
        },
        {
          "output_type": "stream",
          "name": "stdout",
          "text": [
            "\n",
            "\n",
            "[2730, 336, 1331, 42] [364, 43, 184, 5] [0.8823529411764706, 0.8865435356200527, 0.8785478547854786, 0.8936170212765957]\n",
            "[1117, 156, 531, 18] [209, 7, 119, 3] [0.8423831070889894, 0.9570552147239264, 0.816923076923077, 0.8571428571428571]\n"
          ]
        },
        {
          "output_type": "stream",
          "name": "stderr",
          "text": [
            "\n"
          ]
        }
      ]
    },
    {
      "cell_type": "code",
      "source": [
        "Xarr = np.array(X)\n",
        "ps_nfolds_map = [[multivariate_normal.pdf(Xarr[j], mean = means_nfolds[k], cov = covs_list_nfolds[k], allow_singular = True) for k in range(len(classes))] for j in tqdm(range(len(X)))]\n",
        "ps_nfolds_map = np.argmax(ps_nfolds_map, axis=-1)\n",
        "\n",
        "conf = confusion_matrix(y, ps_nfolds_map) \n",
        "plt.figure(figsize = (10,7))\n",
        "sn.heatmap(conf, annot=True, fmt = \"d\", linewidths = 0.5)\n",
        "plt.show()"
      ],
      "metadata": {
        "colab": {
          "base_uri": "https://localhost:8080/",
          "height": 446
        },
        "id": "cydrjuyg5Xiv",
        "outputId": "1abf919d-7a7c-415f-fdeb-0c9cba2736b0"
      },
      "execution_count": null,
      "outputs": [
        {
          "output_type": "stream",
          "name": "stderr",
          "text": [
            "100%|██████████| 7195/7195 [00:06<00:00, 1131.49it/s]\n"
          ]
        },
        {
          "output_type": "display_data",
          "data": {
            "text/plain": [
              "<Figure size 720x504 with 2 Axes>"
            ],
            "image/png": "[encoded data removed]"
          },
          "metadata": {
            "needs_background": "light"
          }
        }
      ]
    },
    {
      "cell_type": "code",
      "source": [
        ""
      ],
      "metadata": {
        "id": "9gFe0OE55n9S"
      },
      "execution_count": null,
      "outputs": []
    }
  ]
}